{
 "cells": [
  {
   "cell_type": "markdown",
   "id": "43c8493b-63f5-4f83-9c7f-70f9ede14293",
   "metadata": {},
   "source": [
    "import pyarrow\n",
    "pyarrow.__version__# Text pipeline\n",
    "Text Pipeline: \n",
    "\n",
    "Current sentence + Emotion + context + NER + keyword  --[T5-fintuned-CommonGen]--> next sentence"
   ]
  },
  {
   "cell_type": "code",
   "execution_count": 68,
   "id": "4ef8e682-9ae3-4bcf-8e47-681656d7c5e1",
   "metadata": {},
   "outputs": [
    {
     "data": {
      "text/plain": [
       "'8.0.0'"
      ]
     },
     "execution_count": 68,
     "metadata": {},
     "output_type": "execute_result"
    }
   ],
   "source": [
    "import pyarrow\n",
    "pyarrow.__version__"
   ]
  },
  {
   "cell_type": "markdown",
   "id": "247fc742-8ab1-4473-b1cd-e565bccba3f7",
   "metadata": {},
   "source": [
    "## Current sentence"
   ]
  },
  {
   "cell_type": "code",
   "execution_count": 22,
   "id": "839ef040-0690-40ec-a391-b85099de5104",
   "metadata": {},
   "outputs": [
    {
     "name": "stdout",
     "output_type": "stream",
     "text": [
      "Billy was feeling tired and had to get up to go to school.\n"
     ]
    },
    {
     "data": {
      "text/html": [
       "<style type=\"text/css\">\n",
       "#T_932ed_row0_col9, #T_932ed_row1_col9, #T_932ed_row2_col9, #T_932ed_row3_col9, #T_932ed_row4_col9 {\n",
       "  width-min: 300px;\n",
       "}\n",
       "</style>\n",
       "<table id=\"T_932ed\">\n",
       "  <thead>\n",
       "    <tr>\n",
       "      <th class=\"blank level0\" >&nbsp;</th>\n",
       "      <th id=\"T_932ed_level0_col0\" class=\"col_heading level0 col0\" >Unnamed: 0</th>\n",
       "      <th id=\"T_932ed_level0_col1\" class=\"col_heading level0 col1\" >storyid</th>\n",
       "      <th id=\"T_932ed_level0_col2\" class=\"col_heading level0 col2\" >linenum</th>\n",
       "      <th id=\"T_932ed_level0_col3\" class=\"col_heading level0 col3\" >char</th>\n",
       "      <th id=\"T_932ed_level0_col4\" class=\"col_heading level0 col4\" >emotionworkerid</th>\n",
       "      <th id=\"T_932ed_level0_col5\" class=\"col_heading level0 col5\" >context</th>\n",
       "      <th id=\"T_932ed_level0_col6\" class=\"col_heading level0 col6\" >sentence</th>\n",
       "      <th id=\"T_932ed_level0_col7\" class=\"col_heading level0 col7\" >affected</th>\n",
       "      <th id=\"T_932ed_level0_col8\" class=\"col_heading level0 col8\" >emotion</th>\n",
       "      <th id=\"T_932ed_level0_col9\" class=\"col_heading level0 col9\" >plutchik</th>\n",
       "    </tr>\n",
       "  </thead>\n",
       "  <tbody>\n",
       "    <tr>\n",
       "      <th id=\"T_932ed_level0_row0\" class=\"row_heading level0 row0\" >5318</th>\n",
       "      <td id=\"T_932ed_row0_col0\" class=\"data row0 col0\" >5318</td>\n",
       "      <td id=\"T_932ed_row0_col1\" class=\"data row0 col1\" >455714e1-9419-4d9b-91e8-8ffa0005dae0</td>\n",
       "      <td id=\"T_932ed_row0_col2\" class=\"data row0 col2\" >1</td>\n",
       "      <td id=\"T_932ed_row0_col3\" class=\"data row0 col3\" >Billy</td>\n",
       "      <td id=\"T_932ed_row0_col4\" class=\"data row0 col4\" >ann0</td>\n",
       "      <td id=\"T_932ed_row0_col5\" class=\"data row0 col5\" >nan</td>\n",
       "      <td id=\"T_932ed_row0_col6\" class=\"data row0 col6\" >Billy was feeling tired and had to get up to go to school.</td>\n",
       "      <td id=\"T_932ed_row0_col7\" class=\"data row0 col7\" >yes</td>\n",
       "      <td id=\"T_932ed_row0_col8\" class=\"data row0 col8\" >['sleepy', 'tired', 'sad', 'sick']</td>\n",
       "      <td id=\"T_932ed_row0_col9\" class=\"data row0 col9\" >{'joy': 0, 'trust': 0, 'fear': 1, 'surprise': 0, 'sadness': 2, 'disgust': 0, 'anger': 0, 'anticipation': 0}</td>\n",
       "    </tr>\n",
       "    <tr>\n",
       "      <th id=\"T_932ed_level0_row1\" class=\"row_heading level0 row1\" >5319</th>\n",
       "      <td id=\"T_932ed_row1_col0\" class=\"data row1 col0\" >5319</td>\n",
       "      <td id=\"T_932ed_row1_col1\" class=\"data row1 col1\" >455714e1-9419-4d9b-91e8-8ffa0005dae0</td>\n",
       "      <td id=\"T_932ed_row1_col2\" class=\"data row1 col2\" >2</td>\n",
       "      <td id=\"T_932ed_row1_col3\" class=\"data row1 col3\" >Billy</td>\n",
       "      <td id=\"T_932ed_row1_col4\" class=\"data row1 col4\" >ann0</td>\n",
       "      <td id=\"T_932ed_row1_col5\" class=\"data row1 col5\" >Billy was feeling tired and had to get up to go to school.</td>\n",
       "      <td id=\"T_932ed_row1_col6\" class=\"data row1 col6\" >On the way to school Billy stopped by the local convenience store.</td>\n",
       "      <td id=\"T_932ed_row1_col7\" class=\"data row1 col7\" >yes</td>\n",
       "      <td id=\"T_932ed_row1_col8\" class=\"data row1 col8\" >['tired']</td>\n",
       "      <td id=\"T_932ed_row1_col9\" class=\"data row1 col9\" >{'joy': 0, 'trust': 0, 'fear': 0, 'surprise': 0, 'sadness': 1, 'disgust': 0, 'anger': 0, 'anticipation': 0}</td>\n",
       "    </tr>\n",
       "    <tr>\n",
       "      <th id=\"T_932ed_level0_row2\" class=\"row_heading level0 row2\" >5320</th>\n",
       "      <td id=\"T_932ed_row2_col0\" class=\"data row2 col0\" >5320</td>\n",
       "      <td id=\"T_932ed_row2_col1\" class=\"data row2 col1\" >455714e1-9419-4d9b-91e8-8ffa0005dae0</td>\n",
       "      <td id=\"T_932ed_row2_col2\" class=\"data row2 col2\" >3</td>\n",
       "      <td id=\"T_932ed_row2_col3\" class=\"data row2 col3\" >Billy</td>\n",
       "      <td id=\"T_932ed_row2_col4\" class=\"data row2 col4\" >ann0</td>\n",
       "      <td id=\"T_932ed_row2_col5\" class=\"data row2 col5\" >Billy was feeling tired and had to get up to go to school.|On the way to school Billy stopped by the local convenience store.</td>\n",
       "      <td id=\"T_932ed_row2_col6\" class=\"data row2 col6\" >As Billy entered he noticed an advertisement for an energy drink.</td>\n",
       "      <td id=\"T_932ed_row2_col7\" class=\"data row2 col7\" >yes</td>\n",
       "      <td id=\"T_932ed_row2_col8\" class=\"data row2 col8\" >['curious', 'intrigued', 'eager']</td>\n",
       "      <td id=\"T_932ed_row2_col9\" class=\"data row2 col9\" >{'joy': 1, 'trust': 0, 'fear': 0, 'surprise': 1, 'sadness': 0, 'disgust': 0, 'anger': 0, 'anticipation': 1}</td>\n",
       "    </tr>\n",
       "    <tr>\n",
       "      <th id=\"T_932ed_level0_row3\" class=\"row_heading level0 row3\" >5321</th>\n",
       "      <td id=\"T_932ed_row3_col0\" class=\"data row3 col0\" >5321</td>\n",
       "      <td id=\"T_932ed_row3_col1\" class=\"data row3 col1\" >455714e1-9419-4d9b-91e8-8ffa0005dae0</td>\n",
       "      <td id=\"T_932ed_row3_col2\" class=\"data row3 col2\" >4</td>\n",
       "      <td id=\"T_932ed_row3_col3\" class=\"data row3 col3\" >Billy</td>\n",
       "      <td id=\"T_932ed_row3_col4\" class=\"data row3 col4\" >ann0</td>\n",
       "      <td id=\"T_932ed_row3_col5\" class=\"data row3 col5\" >Billy was feeling tired and had to get up to go to school.|On the way to school Billy stopped by the local convenience store.|As Billy entered he noticed an advertisement for an energy drink.</td>\n",
       "      <td id=\"T_932ed_row3_col6\" class=\"data row3 col6\" >Billy decided to buy the energy drink for himself.</td>\n",
       "      <td id=\"T_932ed_row3_col7\" class=\"data row3 col7\" >yes</td>\n",
       "      <td id=\"T_932ed_row3_col8\" class=\"data row3 col8\" >['excited', 'determined']</td>\n",
       "      <td id=\"T_932ed_row3_col9\" class=\"data row3 col9\" >{'joy': 2, 'trust': 1, 'fear': 0, 'surprise': 0, 'sadness': 0, 'disgust': 0, 'anger': 0, 'anticipation': 2}</td>\n",
       "    </tr>\n",
       "    <tr>\n",
       "      <th id=\"T_932ed_level0_row4\" class=\"row_heading level0 row4\" >5322</th>\n",
       "      <td id=\"T_932ed_row4_col0\" class=\"data row4 col0\" >5322</td>\n",
       "      <td id=\"T_932ed_row4_col1\" class=\"data row4 col1\" >455714e1-9419-4d9b-91e8-8ffa0005dae0</td>\n",
       "      <td id=\"T_932ed_row4_col2\" class=\"data row4 col2\" >5</td>\n",
       "      <td id=\"T_932ed_row4_col3\" class=\"data row4 col3\" >Billy</td>\n",
       "      <td id=\"T_932ed_row4_col4\" class=\"data row4 col4\" >ann0</td>\n",
       "      <td id=\"T_932ed_row4_col5\" class=\"data row4 col5\" >Billy was feeling tired and had to get up to go to school.|On the way to school Billy stopped by the local convenience store.|As Billy entered he noticed an advertisement for an energy drink.|Billy decided to buy the energy drink for himself.</td>\n",
       "      <td id=\"T_932ed_row4_col6\" class=\"data row4 col6\" >Billy swallowed the energy drink contents and felt awake for school.</td>\n",
       "      <td id=\"T_932ed_row4_col7\" class=\"data row4 col7\" >yes</td>\n",
       "      <td id=\"T_932ed_row4_col8\" class=\"data row4 col8\" >['alert']</td>\n",
       "      <td id=\"T_932ed_row4_col9\" class=\"data row4 col9\" >{'joy': 1, 'trust': 0, 'fear': 0, 'surprise': 1, 'sadness': 0, 'disgust': 0, 'anger': 0, 'anticipation': 3}</td>\n",
       "    </tr>\n",
       "  </tbody>\n",
       "</table>\n"
      ],
      "text/plain": [
       "<pandas.io.formats.style.Styler at 0x1aaaeaeaee0>"
      ]
     },
     "execution_count": 22,
     "metadata": {},
     "output_type": "execute_result"
    }
   ],
   "source": [
    "import pandas as pd\n",
    "storyData = pd.read_csv('../../data/csv_version/dev/emotion/allcharlinepairs-clean-v1.csv')\n",
    "sentenceIndex = storyData[storyData['context'].isna()].sample()['sentence'].index\n",
    "demoStory = storyData.iloc[sentenceIndex[0]:sentenceIndex[0]+5]\n",
    "demoSentence = demoStory.iloc[0]['sentence']\n",
    "print(demoSentence)\n",
    "demoStory.style.set_properties(subset=['plutchik'], **{'width-min': '300px'})\n"
   ]
  },
  {
   "cell_type": "markdown",
   "id": "d7383a69-067b-414d-b4a7-97f666ecba10",
   "metadata": {},
   "source": [
    "## Emotion"
   ]
  },
  {
   "cell_type": "code",
   "execution_count": 71,
   "id": "18578949-98ef-4856-bd96-b9f810e09790",
   "metadata": {},
   "outputs": [],
   "source": [
    "from transformers import AutoTokenizer\n",
    "from transformers import AutoModelForSequenceClassification\n",
    "import numpy as np\n",
    "\n",
    "# joy, trust, fear, surprise, sadness, disgust, anger, anticipation\n",
    "emotionActivate =  {'joy' : True, \n",
    "                    'trust' : True, \n",
    "                    'fear' : True, \n",
    "                    'surprise' : True, \n",
    "                    'sadness' : True, \n",
    "                    'disgust' : True, \n",
    "                    'anger' : True, \n",
    "                    'anticipation' : True}\n",
    "\n",
    "import torch\n",
    "def genEmo(demoSentenceInput):\n",
    "    model = AutoModelForSequenceClassification.from_pretrained(\"./firstSentenceDetection/\")\n",
    "    # assert model.config.output_attentions == True\n",
    "    tokenizer = AutoTokenizer.from_pretrained(\"bert-base-uncased\")\n",
    "    \n",
    "    encoding = tokenizer(demoSentenceInput, return_tensors=\"pt\")\n",
    "    # tokenizer.decode(encoding['input_ids'])\n",
    "    encoding = {k: v.to('cpu') for k,v in encoding.items()}\n",
    "\n",
    "    outputs = model(**encoding)\n",
    "    \n",
    "    # apply sigmoid + threshold\n",
    "    logits = outputs.logits\n",
    "    sigmoid = torch.nn.Sigmoid()\n",
    "    probs = sigmoid(logits.squeeze().cpu())\n",
    "    predictions = np.zeros(probs.shape)\n",
    "    predictions[np.where(probs >= 0.5)] = 1\n",
    "    # turn predicted id's into actual label names\n",
    "    predicted_labels = [list(emotionActivate.keys())[idx] for idx, label in enumerate(predictions) if label == 1.0 and list(emotionActivate.values())[idx] == True]\n",
    "    return \", \".join( key for key in predicted_labels)"
   ]
  },
  {
   "cell_type": "code",
   "execution_count": 72,
   "id": "32cd24f3-b624-4dd3-be09-93f1d28201c1",
   "metadata": {},
   "outputs": [
    {
     "data": {
      "text/plain": [
       "'joy, trust, anticipation'"
      ]
     },
     "execution_count": 72,
     "metadata": {},
     "output_type": "execute_result"
    }
   ],
   "source": [
    "genEmo(\"I am happy\")"
   ]
  },
  {
   "cell_type": "markdown",
   "id": "0bc85995-e3d7-4bc6-b950-306b0e3682ed",
   "metadata": {},
   "source": [
    "## NER"
   ]
  },
  {
   "cell_type": "code",
   "execution_count": 73,
   "id": "6a73cb2f-f65f-48f6-adf0-1b068c432be5",
   "metadata": {
    "tags": []
   },
   "outputs": [
    {
     "name": "stdout",
     "output_type": "stream",
     "text": [
      "Requirement already satisfied: SceneGraphParser in c:\\python\\miniconda3\\envs\\pytorchenvwithdatasci\\lib\\site-packages (0.1.0)\n",
      "Requirement already satisfied: tabulate>=0.8.9 in c:\\python\\miniconda3\\envs\\pytorchenvwithdatasci\\lib\\site-packages (from SceneGraphParser) (0.8.10)\n",
      "Requirement already satisfied: spacy>=3.2.0 in c:\\python\\miniconda3\\envs\\pytorchenvwithdatasci\\lib\\site-packages (from SceneGraphParser) (3.4.0)\n",
      "Requirement already satisfied: spacy-loggers<2.0.0,>=1.0.0 in c:\\python\\miniconda3\\envs\\pytorchenvwithdatasci\\lib\\site-packages (from spacy>=3.2.0->SceneGraphParser) (1.0.3)\n",
      "Requirement already satisfied: murmurhash<1.1.0,>=0.28.0 in c:\\python\\miniconda3\\envs\\pytorchenvwithdatasci\\lib\\site-packages (from spacy>=3.2.0->SceneGraphParser) (1.0.7)\n",
      "Requirement already satisfied: catalogue<2.1.0,>=2.0.6 in c:\\python\\miniconda3\\envs\\pytorchenvwithdatasci\\lib\\site-packages (from spacy>=3.2.0->SceneGraphParser) (2.0.7)\n",
      "Requirement already satisfied: preshed<3.1.0,>=3.0.2 in c:\\python\\miniconda3\\envs\\pytorchenvwithdatasci\\lib\\site-packages (from spacy>=3.2.0->SceneGraphParser) (3.0.6)\n",
      "Requirement already satisfied: wasabi<1.1.0,>=0.9.1 in c:\\python\\miniconda3\\envs\\pytorchenvwithdatasci\\lib\\site-packages (from spacy>=3.2.0->SceneGraphParser) (0.9.1)\n",
      "Requirement already satisfied: tqdm<5.0.0,>=4.38.0 in c:\\python\\miniconda3\\envs\\pytorchenvwithdatasci\\lib\\site-packages (from spacy>=3.2.0->SceneGraphParser) (4.64.0)\n",
      "Requirement already satisfied: thinc<8.2.0,>=8.1.0 in c:\\python\\miniconda3\\envs\\pytorchenvwithdatasci\\lib\\site-packages (from spacy>=3.2.0->SceneGraphParser) (8.1.0)\n",
      "Requirement already satisfied: jinja2 in c:\\python\\miniconda3\\envs\\pytorchenvwithdatasci\\lib\\site-packages (from spacy>=3.2.0->SceneGraphParser) (3.1.2)\n",
      "Requirement already satisfied: packaging>=20.0 in c:\\python\\miniconda3\\envs\\pytorchenvwithdatasci\\lib\\site-packages (from spacy>=3.2.0->SceneGraphParser) (21.3)\n",
      "Requirement already satisfied: srsly<3.0.0,>=2.4.3 in c:\\python\\miniconda3\\envs\\pytorchenvwithdatasci\\lib\\site-packages (from spacy>=3.2.0->SceneGraphParser) (2.4.4)\n",
      "Requirement already satisfied: pathy>=0.3.5 in c:\\python\\miniconda3\\envs\\pytorchenvwithdatasci\\lib\\site-packages (from spacy>=3.2.0->SceneGraphParser) (0.6.2)\n",
      "Requirement already satisfied: numpy>=1.15.0 in c:\\python\\miniconda3\\envs\\pytorchenvwithdatasci\\lib\\site-packages (from spacy>=3.2.0->SceneGraphParser) (1.22.3)\n",
      "Requirement already satisfied: cymem<2.1.0,>=2.0.2 in c:\\python\\miniconda3\\envs\\pytorchenvwithdatasci\\lib\\site-packages (from spacy>=3.2.0->SceneGraphParser) (2.0.6)\n",
      "Requirement already satisfied: spacy-legacy<3.1.0,>=3.0.9 in c:\\python\\miniconda3\\envs\\pytorchenvwithdatasci\\lib\\site-packages (from spacy>=3.2.0->SceneGraphParser) (3.0.9)\n",
      "Requirement already satisfied: langcodes<4.0.0,>=3.2.0 in c:\\python\\miniconda3\\envs\\pytorchenvwithdatasci\\lib\\site-packages (from spacy>=3.2.0->SceneGraphParser) (3.3.0)\n",
      "Requirement already satisfied: pydantic!=1.8,!=1.8.1,<1.10.0,>=1.7.4 in c:\\python\\miniconda3\\envs\\pytorchenvwithdatasci\\lib\\site-packages (from spacy>=3.2.0->SceneGraphParser) (1.9.1)\n",
      "Requirement already satisfied: setuptools in c:\\python\\miniconda3\\envs\\pytorchenvwithdatasci\\lib\\site-packages (from spacy>=3.2.0->SceneGraphParser) (61.2.0)\n",
      "Requirement already satisfied: typer<0.5.0,>=0.3.0 in c:\\python\\miniconda3\\envs\\pytorchenvwithdatasci\\lib\\site-packages (from spacy>=3.2.0->SceneGraphParser) (0.4.2)\n",
      "Requirement already satisfied: requests<3.0.0,>=2.13.0 in c:\\python\\miniconda3\\envs\\pytorchenvwithdatasci\\lib\\site-packages (from spacy>=3.2.0->SceneGraphParser) (2.28.1)\n",
      "Requirement already satisfied: pyparsing!=3.0.5,>=2.0.2 in c:\\python\\miniconda3\\envs\\pytorchenvwithdatasci\\lib\\site-packages (from packaging>=20.0->spacy>=3.2.0->SceneGraphParser) (3.0.4)\n",
      "Requirement already satisfied: smart-open<6.0.0,>=5.2.1 in c:\\python\\miniconda3\\envs\\pytorchenvwithdatasci\\lib\\site-packages (from pathy>=0.3.5->spacy>=3.2.0->SceneGraphParser) (5.2.1)\n",
      "Requirement already satisfied: typing-extensions>=3.7.4.3 in c:\\python\\miniconda3\\envs\\pytorchenvwithdatasci\\lib\\site-packages (from pydantic!=1.8,!=1.8.1,<1.10.0,>=1.7.4->spacy>=3.2.0->SceneGraphParser) (4.3.0)\n",
      "Requirement already satisfied: urllib3<1.27,>=1.21.1 in c:\\python\\miniconda3\\envs\\pytorchenvwithdatasci\\lib\\site-packages (from requests<3.0.0,>=2.13.0->spacy>=3.2.0->SceneGraphParser) (1.26.10)\n",
      "Requirement already satisfied: idna<4,>=2.5 in c:\\python\\miniconda3\\envs\\pytorchenvwithdatasci\\lib\\site-packages (from requests<3.0.0,>=2.13.0->spacy>=3.2.0->SceneGraphParser) (3.3)\n",
      "Requirement already satisfied: charset-normalizer<3,>=2 in c:\\python\\miniconda3\\envs\\pytorchenvwithdatasci\\lib\\site-packages (from requests<3.0.0,>=2.13.0->spacy>=3.2.0->SceneGraphParser) (2.1.0)\n",
      "Requirement already satisfied: certifi>=2017.4.17 in c:\\python\\miniconda3\\envs\\pytorchenvwithdatasci\\lib\\site-packages (from requests<3.0.0,>=2.13.0->spacy>=3.2.0->SceneGraphParser) (2022.6.15)\n",
      "Requirement already satisfied: blis<0.8.0,>=0.7.8 in c:\\python\\miniconda3\\envs\\pytorchenvwithdatasci\\lib\\site-packages (from thinc<8.2.0,>=8.1.0->spacy>=3.2.0->SceneGraphParser) (0.7.8)\n",
      "Requirement already satisfied: colorama in c:\\python\\miniconda3\\envs\\pytorchenvwithdatasci\\lib\\site-packages (from tqdm<5.0.0,>=4.38.0->spacy>=3.2.0->SceneGraphParser) (0.4.4)\n",
      "Requirement already satisfied: click<9.0.0,>=7.1.1 in c:\\python\\miniconda3\\envs\\pytorchenvwithdatasci\\lib\\site-packages (from typer<0.5.0,>=0.3.0->spacy>=3.2.0->SceneGraphParser) (8.1.3)\n",
      "Requirement already satisfied: MarkupSafe>=2.0 in c:\\python\\miniconda3\\envs\\pytorchenvwithdatasci\\lib\\site-packages (from jinja2->spacy>=3.2.0->SceneGraphParser) (2.1.1)\n",
      "Collecting en-core-web-sm==3.4.0\n",
      "  Downloading https://github.com/explosion/spacy-models/releases/download/en_core_web_sm-3.4.0/en_core_web_sm-3.4.0-py3-none-any.whl (12.8 MB)\n",
      "     ---------------------------------------- 12.8/12.8 MB 5.6 MB/s eta 0:00:00\n",
      "Requirement already satisfied: spacy<3.5.0,>=3.4.0 in c:\\python\\miniconda3\\envs\\pytorchenvwithdatasci\\lib\\site-packages (from en-core-web-sm==3.4.0) (3.4.0)\n",
      "Requirement already satisfied: spacy-legacy<3.1.0,>=3.0.9 in c:\\python\\miniconda3\\envs\\pytorchenvwithdatasci\\lib\\site-packages (from spacy<3.5.0,>=3.4.0->en-core-web-sm==3.4.0) (3.0.9)\n",
      "Requirement already satisfied: cymem<2.1.0,>=2.0.2 in c:\\python\\miniconda3\\envs\\pytorchenvwithdatasci\\lib\\site-packages (from spacy<3.5.0,>=3.4.0->en-core-web-sm==3.4.0) (2.0.6)\n",
      "Requirement already satisfied: preshed<3.1.0,>=3.0.2 in c:\\python\\miniconda3\\envs\\pytorchenvwithdatasci\\lib\\site-packages (from spacy<3.5.0,>=3.4.0->en-core-web-sm==3.4.0) (3.0.6)\n",
      "Requirement already satisfied: pathy>=0.3.5 in c:\\python\\miniconda3\\envs\\pytorchenvwithdatasci\\lib\\site-packages (from spacy<3.5.0,>=3.4.0->en-core-web-sm==3.4.0) (0.6.2)\n",
      "Requirement already satisfied: numpy>=1.15.0 in c:\\python\\miniconda3\\envs\\pytorchenvwithdatasci\\lib\\site-packages (from spacy<3.5.0,>=3.4.0->en-core-web-sm==3.4.0) (1.22.3)\n",
      "Requirement already satisfied: catalogue<2.1.0,>=2.0.6 in c:\\python\\miniconda3\\envs\\pytorchenvwithdatasci\\lib\\site-packages (from spacy<3.5.0,>=3.4.0->en-core-web-sm==3.4.0) (2.0.7)\n",
      "Requirement already satisfied: thinc<8.2.0,>=8.1.0 in c:\\python\\miniconda3\\envs\\pytorchenvwithdatasci\\lib\\site-packages (from spacy<3.5.0,>=3.4.0->en-core-web-sm==3.4.0) (8.1.0)\n",
      "Requirement already satisfied: requests<3.0.0,>=2.13.0 in c:\\python\\miniconda3\\envs\\pytorchenvwithdatasci\\lib\\site-packages (from spacy<3.5.0,>=3.4.0->en-core-web-sm==3.4.0) (2.28.1)\n",
      "Requirement already satisfied: langcodes<4.0.0,>=3.2.0 in c:\\python\\miniconda3\\envs\\pytorchenvwithdatasci\\lib\\site-packages (from spacy<3.5.0,>=3.4.0->en-core-web-sm==3.4.0) (3.3.0)\n",
      "Requirement already satisfied: typer<0.5.0,>=0.3.0 in c:\\python\\miniconda3\\envs\\pytorchenvwithdatasci\\lib\\site-packages (from spacy<3.5.0,>=3.4.0->en-core-web-sm==3.4.0) (0.4.2)\n",
      "Requirement already satisfied: setuptools in c:\\python\\miniconda3\\envs\\pytorchenvwithdatasci\\lib\\site-packages (from spacy<3.5.0,>=3.4.0->en-core-web-sm==3.4.0) (61.2.0)\n",
      "Requirement already satisfied: jinja2 in c:\\python\\miniconda3\\envs\\pytorchenvwithdatasci\\lib\\site-packages (from spacy<3.5.0,>=3.4.0->en-core-web-sm==3.4.0) (3.1.2)\n",
      "Requirement already satisfied: spacy-loggers<2.0.0,>=1.0.0 in c:\\python\\miniconda3\\envs\\pytorchenvwithdatasci\\lib\\site-packages (from spacy<3.5.0,>=3.4.0->en-core-web-sm==3.4.0) (1.0.3)\n",
      "Requirement already satisfied: packaging>=20.0 in c:\\python\\miniconda3\\envs\\pytorchenvwithdatasci\\lib\\site-packages (from spacy<3.5.0,>=3.4.0->en-core-web-sm==3.4.0) (21.3)\n",
      "Requirement already satisfied: wasabi<1.1.0,>=0.9.1 in c:\\python\\miniconda3\\envs\\pytorchenvwithdatasci\\lib\\site-packages (from spacy<3.5.0,>=3.4.0->en-core-web-sm==3.4.0) (0.9.1)\n",
      "Requirement already satisfied: srsly<3.0.0,>=2.4.3 in c:\\python\\miniconda3\\envs\\pytorchenvwithdatasci\\lib\\site-packages (from spacy<3.5.0,>=3.4.0->en-core-web-sm==3.4.0) (2.4.4)\n",
      "Requirement already satisfied: pydantic!=1.8,!=1.8.1,<1.10.0,>=1.7.4 in c:\\python\\miniconda3\\envs\\pytorchenvwithdatasci\\lib\\site-packages (from spacy<3.5.0,>=3.4.0->en-core-web-sm==3.4.0) (1.9.1)\n",
      "Requirement already satisfied: murmurhash<1.1.0,>=0.28.0 in c:\\python\\miniconda3\\envs\\pytorchenvwithdatasci\\lib\\site-packages (from spacy<3.5.0,>=3.4.0->en-core-web-sm==3.4.0) (1.0.7)\n",
      "Requirement already satisfied: tqdm<5.0.0,>=4.38.0 in c:\\python\\miniconda3\\envs\\pytorchenvwithdatasci\\lib\\site-packages (from spacy<3.5.0,>=3.4.0->en-core-web-sm==3.4.0) (4.64.0)\n",
      "Requirement already satisfied: pyparsing!=3.0.5,>=2.0.2 in c:\\python\\miniconda3\\envs\\pytorchenvwithdatasci\\lib\\site-packages (from packaging>=20.0->spacy<3.5.0,>=3.4.0->en-core-web-sm==3.4.0) (3.0.4)\n",
      "Requirement already satisfied: smart-open<6.0.0,>=5.2.1 in c:\\python\\miniconda3\\envs\\pytorchenvwithdatasci\\lib\\site-packages (from pathy>=0.3.5->spacy<3.5.0,>=3.4.0->en-core-web-sm==3.4.0) (5.2.1)\n",
      "Requirement already satisfied: typing-extensions>=3.7.4.3 in c:\\python\\miniconda3\\envs\\pytorchenvwithdatasci\\lib\\site-packages (from pydantic!=1.8,!=1.8.1,<1.10.0,>=1.7.4->spacy<3.5.0,>=3.4.0->en-core-web-sm==3.4.0) (4.3.0)\n",
      "Requirement already satisfied: urllib3<1.27,>=1.21.1 in c:\\python\\miniconda3\\envs\\pytorchenvwithdatasci\\lib\\site-packages (from requests<3.0.0,>=2.13.0->spacy<3.5.0,>=3.4.0->en-core-web-sm==3.4.0) (1.26.10)\n",
      "Requirement already satisfied: certifi>=2017.4.17 in c:\\python\\miniconda3\\envs\\pytorchenvwithdatasci\\lib\\site-packages (from requests<3.0.0,>=2.13.0->spacy<3.5.0,>=3.4.0->en-core-web-sm==3.4.0) (2022.6.15)\n",
      "Requirement already satisfied: charset-normalizer<3,>=2 in c:\\python\\miniconda3\\envs\\pytorchenvwithdatasci\\lib\\site-packages (from requests<3.0.0,>=2.13.0->spacy<3.5.0,>=3.4.0->en-core-web-sm==3.4.0) (2.1.0)\n",
      "Requirement already satisfied: idna<4,>=2.5 in c:\\python\\miniconda3\\envs\\pytorchenvwithdatasci\\lib\\site-packages (from requests<3.0.0,>=2.13.0->spacy<3.5.0,>=3.4.0->en-core-web-sm==3.4.0) (3.3)\n",
      "Requirement already satisfied: blis<0.8.0,>=0.7.8 in c:\\python\\miniconda3\\envs\\pytorchenvwithdatasci\\lib\\site-packages (from thinc<8.2.0,>=8.1.0->spacy<3.5.0,>=3.4.0->en-core-web-sm==3.4.0) (0.7.8)\n",
      "Requirement already satisfied: colorama in c:\\python\\miniconda3\\envs\\pytorchenvwithdatasci\\lib\\site-packages (from tqdm<5.0.0,>=4.38.0->spacy<3.5.0,>=3.4.0->en-core-web-sm==3.4.0) (0.4.4)\n",
      "Requirement already satisfied: click<9.0.0,>=7.1.1 in c:\\python\\miniconda3\\envs\\pytorchenvwithdatasci\\lib\\site-packages (from typer<0.5.0,>=0.3.0->spacy<3.5.0,>=3.4.0->en-core-web-sm==3.4.0) (8.1.3)\n",
      "Requirement already satisfied: MarkupSafe>=2.0 in c:\\python\\miniconda3\\envs\\pytorchenvwithdatasci\\lib\\site-packages (from jinja2->spacy<3.5.0,>=3.4.0->en-core-web-sm==3.4.0) (2.1.1)\n",
      "[!] As of spaCy v3.0, shortcuts like 'en' are deprecated. Please use the full\n",
      "pipeline package name 'en_core_web_sm' instead.\n",
      "[+] Download and installation successful\n",
      "You can now load the package via spacy.load('en_core_web_sm')\n",
      "Requirement already satisfied: spacy in c:\\python\\miniconda3\\envs\\pytorchenvwithdatasci\\lib\\site-packages (3.4.0)\n",
      "Requirement already satisfied: wasabi<1.1.0,>=0.9.1 in c:\\python\\miniconda3\\envs\\pytorchenvwithdatasci\\lib\\site-packages (from spacy) (0.9.1)\n",
      "Requirement already satisfied: spacy-legacy<3.1.0,>=3.0.9 in c:\\python\\miniconda3\\envs\\pytorchenvwithdatasci\\lib\\site-packages (from spacy) (3.0.9)\n",
      "Requirement already satisfied: pydantic!=1.8,!=1.8.1,<1.10.0,>=1.7.4 in c:\\python\\miniconda3\\envs\\pytorchenvwithdatasci\\lib\\site-packages (from spacy) (1.9.1)\n",
      "Requirement already satisfied: thinc<8.2.0,>=8.1.0 in c:\\python\\miniconda3\\envs\\pytorchenvwithdatasci\\lib\\site-packages (from spacy) (8.1.0)\n",
      "Requirement already satisfied: langcodes<4.0.0,>=3.2.0 in c:\\python\\miniconda3\\envs\\pytorchenvwithdatasci\\lib\\site-packages (from spacy) (3.3.0)\n",
      "Requirement already satisfied: numpy>=1.15.0 in c:\\python\\miniconda3\\envs\\pytorchenvwithdatasci\\lib\\site-packages (from spacy) (1.22.3)\n",
      "Requirement already satisfied: requests<3.0.0,>=2.13.0 in c:\\python\\miniconda3\\envs\\pytorchenvwithdatasci\\lib\\site-packages (from spacy) (2.28.1)\n",
      "Requirement already satisfied: jinja2 in c:\\python\\miniconda3\\envs\\pytorchenvwithdatasci\\lib\\site-packages (from spacy) (3.1.2)\n",
      "Requirement already satisfied: pathy>=0.3.5 in c:\\python\\miniconda3\\envs\\pytorchenvwithdatasci\\lib\\site-packages (from spacy) (0.6.2)\n",
      "Requirement already satisfied: cymem<2.1.0,>=2.0.2 in c:\\python\\miniconda3\\envs\\pytorchenvwithdatasci\\lib\\site-packages (from spacy) (2.0.6)\n",
      "Requirement already satisfied: srsly<3.0.0,>=2.4.3 in c:\\python\\miniconda3\\envs\\pytorchenvwithdatasci\\lib\\site-packages (from spacy) (2.4.4)\n",
      "Requirement already satisfied: spacy-loggers<2.0.0,>=1.0.0 in c:\\python\\miniconda3\\envs\\pytorchenvwithdatasci\\lib\\site-packages (from spacy) (1.0.3)\n",
      "Requirement already satisfied: catalogue<2.1.0,>=2.0.6 in c:\\python\\miniconda3\\envs\\pytorchenvwithdatasci\\lib\\site-packages (from spacy) (2.0.7)\n",
      "Requirement already satisfied: tqdm<5.0.0,>=4.38.0 in c:\\python\\miniconda3\\envs\\pytorchenvwithdatasci\\lib\\site-packages (from spacy) (4.64.0)\n",
      "Requirement already satisfied: murmurhash<1.1.0,>=0.28.0 in c:\\python\\miniconda3\\envs\\pytorchenvwithdatasci\\lib\\site-packages (from spacy) (1.0.7)\n",
      "Requirement already satisfied: setuptools in c:\\python\\miniconda3\\envs\\pytorchenvwithdatasci\\lib\\site-packages (from spacy) (61.2.0)\n",
      "Requirement already satisfied: packaging>=20.0 in c:\\python\\miniconda3\\envs\\pytorchenvwithdatasci\\lib\\site-packages (from spacy) (21.3)\n",
      "Requirement already satisfied: typer<0.5.0,>=0.3.0 in c:\\python\\miniconda3\\envs\\pytorchenvwithdatasci\\lib\\site-packages (from spacy) (0.4.2)\n",
      "Requirement already satisfied: preshed<3.1.0,>=3.0.2 in c:\\python\\miniconda3\\envs\\pytorchenvwithdatasci\\lib\\site-packages (from spacy) (3.0.6)\n",
      "Requirement already satisfied: pyparsing!=3.0.5,>=2.0.2 in c:\\python\\miniconda3\\envs\\pytorchenvwithdatasci\\lib\\site-packages (from packaging>=20.0->spacy) (3.0.4)\n",
      "Requirement already satisfied: smart-open<6.0.0,>=5.2.1 in c:\\python\\miniconda3\\envs\\pytorchenvwithdatasci\\lib\\site-packages (from pathy>=0.3.5->spacy) (5.2.1)\n",
      "Requirement already satisfied: typing-extensions>=3.7.4.3 in c:\\python\\miniconda3\\envs\\pytorchenvwithdatasci\\lib\\site-packages (from pydantic!=1.8,!=1.8.1,<1.10.0,>=1.7.4->spacy) (4.3.0)\n",
      "Requirement already satisfied: idna<4,>=2.5 in c:\\python\\miniconda3\\envs\\pytorchenvwithdatasci\\lib\\site-packages (from requests<3.0.0,>=2.13.0->spacy) (3.3)\n",
      "Requirement already satisfied: charset-normalizer<3,>=2 in c:\\python\\miniconda3\\envs\\pytorchenvwithdatasci\\lib\\site-packages (from requests<3.0.0,>=2.13.0->spacy) (2.1.0)\n",
      "Requirement already satisfied: certifi>=2017.4.17 in c:\\python\\miniconda3\\envs\\pytorchenvwithdatasci\\lib\\site-packages (from requests<3.0.0,>=2.13.0->spacy) (2022.6.15)\n",
      "Requirement already satisfied: urllib3<1.27,>=1.21.1 in c:\\python\\miniconda3\\envs\\pytorchenvwithdatasci\\lib\\site-packages (from requests<3.0.0,>=2.13.0->spacy) (1.26.10)\n",
      "Requirement already satisfied: blis<0.8.0,>=0.7.8 in c:\\python\\miniconda3\\envs\\pytorchenvwithdatasci\\lib\\site-packages (from thinc<8.2.0,>=8.1.0->spacy) (0.7.8)\n",
      "Requirement already satisfied: colorama in c:\\python\\miniconda3\\envs\\pytorchenvwithdatasci\\lib\\site-packages (from tqdm<5.0.0,>=4.38.0->spacy) (0.4.4)\n",
      "Requirement already satisfied: click<9.0.0,>=7.1.1 in c:\\python\\miniconda3\\envs\\pytorchenvwithdatasci\\lib\\site-packages (from typer<0.5.0,>=0.3.0->spacy) (8.1.3)\n",
      "Requirement already satisfied: MarkupSafe>=2.0 in c:\\python\\miniconda3\\envs\\pytorchenvwithdatasci\\lib\\site-packages (from jinja2->spacy) (2.1.1)\n"
     ]
    }
   ],
   "source": [
    "!pip install SceneGraphParser\n",
    "!python -m spacy download en  \n",
    "!pip install spacy"
   ]
  },
  {
   "cell_type": "code",
   "execution_count": 74,
   "id": "f7b01f62-8759-403b-9b43-6a88b6779384",
   "metadata": {
    "tags": []
   },
   "outputs": [],
   "source": [
    "import sng_parser\n",
    "def genKeyword(demoSentenceInput):\n",
    "    graph = sng_parser.parse(demoSentenceInput)\n",
    "    majorKeyword = [x['span'] for x in graph['entities']]\n",
    "    return \", \".join( key for key in majorKeyword)"
   ]
  },
  {
   "cell_type": "code",
   "execution_count": 75,
   "id": "5f1089e6-208e-40f3-8a5d-760572bf1081",
   "metadata": {},
   "outputs": [
    {
     "data": {
      "text/plain": [
       "'I, Ann, a night walk'"
      ]
     },
     "execution_count": 75,
     "metadata": {},
     "output_type": "execute_result"
    }
   ],
   "source": [
    "genKeyword(\"I and Ann were having a night walk yesterday\")"
   ]
  },
  {
   "cell_type": "markdown",
   "id": "efba83fc-c024-4660-a3eb-9646b8926953",
   "metadata": {
    "tags": []
   },
   "source": [
    "## Image Generation"
   ]
  },
  {
   "cell_type": "code",
   "execution_count": 76,
   "id": "4dac6fdd-adfc-42b8-882a-81fddb2c375f",
   "metadata": {},
   "outputs": [
    {
     "data": {
      "text/plain": [
       "'May went home satisfied that she had spotted some wildlife.'"
      ]
     },
     "execution_count": 76,
     "metadata": {},
     "output_type": "execute_result"
    }
   ],
   "source": [
    "demoStory.iloc[4]['sentence']"
   ]
  },
  {
   "cell_type": "markdown",
   "id": "b5293c08-189f-47a0-8f58-5a1be02f554b",
   "metadata": {},
   "source": [
    "# T5 Sentence Generation"
   ]
  },
  {
   "cell_type": "code",
   "execution_count": 77,
   "id": "faf53334-4d0c-4d72-be26-77ef11540e08",
   "metadata": {},
   "outputs": [],
   "source": [
    "# Input Construction\n",
    "def tempGetInput(currentSentenceindex):\n",
    "    \n",
    "    return f\"{genKeyword(demoStory.iloc[currentSentenceindex]['sentence'])} | {demoStory.iloc[currentSentenceindex]['context'].replace('|', ' ')} | {genEmo(demoStory.iloc[currentSentenceindex]['sentence'])}\" "
   ]
  },
  {
   "cell_type": "code",
   "execution_count": 78,
   "id": "20c401c6-8c00-41c2-a0b2-cb33bb005c9c",
   "metadata": {},
   "outputs": [],
   "source": [
    "import transformers\n",
    "import evaluate\n",
    "from transformers import T5Tokenizer, T5ForConditionalGeneration\n",
    "# (\"mrm8488/t5-base-finetuned-common_gen\")\n",
    "\n",
    "model = T5ForConditionalGeneration.from_pretrained(\"./storyGen\")\n",
    "tokenizer = T5Tokenizer.from_pretrained(\"mrm8488/t5-base-finetuned-common_gen\")\n",
    "\n",
    "\n",
    "def genSentence(words, max_length=32):\n",
    "    input_text = words\n",
    "    features = tokenizer([input_text], return_tensors='pt')\n",
    "    output = model.generate(input_ids=features['input_ids'], \n",
    "                            attention_mask=features['attention_mask'],\n",
    "                            max_length=max_length)\n",
    "\n",
    "    return tokenizer.decode(output[0], skip_special_tokens=True)\n",
    "\n",
    "def genStory(storyLength = 5):\n",
    "    story = []\n",
    "    story.append(demoSentence);\n",
    "    for i in range(1, storyLength):\n",
    "        story.append(genSentence(tempGetInput(i)))\n",
    "    return story\n",
    "\n",
    "def BLEU_metric(generatedText, actualText):\n",
    "    bleu = evaluate.load(\"bleu\")\n",
    "    results = bleu.compute(predictions= generatedText, references= actualText)\n",
    "    return results\n"
   ]
  },
  {
   "cell_type": "code",
   "execution_count": 79,
   "id": "85723962-7ad5-41f4-a299-42a47c3da572",
   "metadata": {},
   "outputs": [],
   "source": [
    "def getBLEUEachSentence(actual, expected):\n",
    "    return [BLEU_metric([x], [y])['bleu'] for x, y in zip(list(actual), list(expected))]\n",
    "\n",
    "def getMeteorEachSentence(actual, expected):\n",
    "    return  [meteor([word_tokenize(x)], word_tokenize(y)) for x, y in zip(list(actual), list(expected))]"
   ]
  },
  {
   "cell_type": "code",
   "execution_count": 80,
   "id": "8ff3d7bd-0abf-4230-a49e-fda6ec7a8a3e",
   "metadata": {},
   "outputs": [
    {
     "data": {
      "text/html": [
       "<style type=\"text/css\">\n",
       "#T_76fdf_row0_col0, #T_76fdf_row1_col0, #T_76fdf_row2_col0, #T_76fdf_row3_col0, #T_76fdf_row4_col0 {\n",
       "  width-min: 300px;\n",
       "}\n",
       "</style>\n",
       "<table id=\"T_76fdf\">\n",
       "  <thead>\n",
       "    <tr>\n",
       "      <th class=\"blank level0\" >&nbsp;</th>\n",
       "      <th id=\"T_76fdf_level0_col0\" class=\"col_heading level0 col0\" >generated</th>\n",
       "      <th id=\"T_76fdf_level0_col1\" class=\"col_heading level0 col1\" >Ground truth</th>\n",
       "      <th id=\"T_76fdf_level0_col2\" class=\"col_heading level0 col2\" >BLEU</th>\n",
       "      <th id=\"T_76fdf_level0_col3\" class=\"col_heading level0 col3\" >METEOR</th>\n",
       "    </tr>\n",
       "  </thead>\n",
       "  <tbody>\n",
       "    <tr>\n",
       "      <th id=\"T_76fdf_level0_row0\" class=\"row_heading level0 row0\" >0</th>\n",
       "      <td id=\"T_76fdf_row0_col0\" class=\"data row0 col0\" >Someone had left a pair of binoculars on the park's bench.</td>\n",
       "      <td id=\"T_76fdf_row0_col1\" class=\"data row0 col1\" >Someone had left a pair of binoculars on the park's bench.</td>\n",
       "      <td id=\"T_76fdf_row0_col2\" class=\"data row0 col2\" >1.000000</td>\n",
       "      <td id=\"T_76fdf_row0_col3\" class=\"data row0 col3\" >0.999314</td>\n",
       "    </tr>\n",
       "    <tr>\n",
       "      <th id=\"T_76fdf_level0_row1\" class=\"row_heading level0 row1\" >1</th>\n",
       "      <td id=\"T_76fdf_row1_col0\" class=\"data row1 col0\" >the binoculars were placed on the bench.</td>\n",
       "      <td id=\"T_76fdf_row1_col1\" class=\"data row1 col1\" >May happened upon the binoculars and sat on the bench to investigate.</td>\n",
       "      <td id=\"T_76fdf_row1_col2\" class=\"data row1 col2\" >0.390113</td>\n",
       "      <td id=\"T_76fdf_row1_col3\" class=\"data row1 col3\" >0.920940</td>\n",
       "    </tr>\n",
       "    <tr>\n",
       "      <th id=\"T_76fdf_level0_row2\" class=\"row_heading level0 row2\" >2</th>\n",
       "      <td id=\"T_76fdf_row2_col0\" class=\"data row2 col0\" >A few minutes later, the binoculars were full of birds.</td>\n",
       "      <td id=\"T_76fdf_row2_col1\" class=\"data row2 col1\" >She looked through the binoculars and searched around for birds.</td>\n",
       "      <td id=\"T_76fdf_row2_col2\" class=\"data row2 col2\" >0.483545</td>\n",
       "      <td id=\"T_76fdf_row2_col3\" class=\"data row2 col3\" >0.817901</td>\n",
       "    </tr>\n",
       "    <tr>\n",
       "      <th id=\"T_76fdf_level0_row3\" class=\"row_heading level0 row3\" >3</th>\n",
       "      <td id=\"T_76fdf_row3_col0\" class=\"data row3 col0\" >A few minutes later, she found that she had found the binoculars on the bench.</td>\n",
       "      <td id=\"T_76fdf_row3_col1\" class=\"data row3 col1\" >When she was finished, she returned the binoculars to the bench.</td>\n",
       "      <td id=\"T_76fdf_row3_col2\" class=\"data row3 col2\" >0.000000</td>\n",
       "      <td id=\"T_76fdf_row3_col3\" class=\"data row3 col3\" >0.312500</td>\n",
       "    </tr>\n",
       "    <tr>\n",
       "      <th id=\"T_76fdf_level0_row4\" class=\"row_heading level0 row4\" >4</th>\n",
       "      <td id=\"T_76fdf_row4_col0\" class=\"data row4 col0\" >A few minutes later, May saw that she had seen some wildlife.</td>\n",
       "      <td id=\"T_76fdf_row4_col1\" class=\"data row4 col1\" >May went home satisfied that she had spotted some wildlife.</td>\n",
       "      <td id=\"T_76fdf_row4_col2\" class=\"data row4 col2\" >0.000000</td>\n",
       "      <td id=\"T_76fdf_row4_col3\" class=\"data row4 col3\" >0.138889</td>\n",
       "    </tr>\n",
       "  </tbody>\n",
       "</table>\n"
      ],
      "text/plain": [
       "<pandas.io.formats.style.Styler at 0x1f348f97e80>"
      ]
     },
     "execution_count": 80,
     "metadata": {},
     "output_type": "execute_result"
    }
   ],
   "source": [
    "from pandas import DataFrame\n",
    "from nltk.translate import meteor\n",
    "from nltk import word_tokenize\n",
    "\n",
    "testDatasetProcessed = DataFrame({\"generated\" : genStory(), \"Ground truth\": demoStory['sentence'].tolist(), \n",
    "                                  \"BLEU\" : getBLEUEachSentence(testDatasetProcessed[\"generated\"], testDatasetProcessed[\"Ground truth\"]), \n",
    "                                 \"METEOR\": getMeteorEachSentence(testDatasetProcessed[\"generated\"], testDatasetProcessed[\"Ground truth\"])})\n",
    "# TO-DO: add score to dataframe\n",
    "testDatasetProcessed.style.set_properties(subset=['generated'], **{'width-min': '300px'})\n"
   ]
  },
  {
   "cell_type": "code",
   "execution_count": 56,
   "id": "de396661-ed7e-459b-8cbd-ab0a38ee6e61",
   "metadata": {},
   "outputs": [
    {
     "data": {
      "text/plain": [
       "[1.0, 0.0, 0.0, 0.4111336169005197, 0.5578002860768766]"
      ]
     },
     "execution_count": 56,
     "metadata": {},
     "output_type": "execute_result"
    }
   ],
   "source": []
  },
  {
   "cell_type": "code",
   "execution_count": 55,
   "id": "d555c9a6-8206-4241-a538-1810093f3b0e",
   "metadata": {},
   "outputs": [
    {
     "data": {
      "text/plain": [
       "[0.9985422740524781,\n",
       " 0.49811613475177297,\n",
       " 0.42592592592592593,\n",
       " 0.5948372615039282,\n",
       " 0.8294209702660407]"
      ]
     },
     "execution_count": 55,
     "metadata": {},
     "output_type": "execute_result"
    }
   ],
   "source": []
  },
  {
   "cell_type": "code",
   "execution_count": 54,
   "id": "ebc280f8-c008-4989-92c0-b674ff2aafc8",
   "metadata": {},
   "outputs": [
    {
     "name": "stderr",
     "output_type": "stream",
     "text": [
      "[nltk_data] Downloading package omw-1.4 to\n",
      "[nltk_data]     C:\\Users\\JAM_0\\AppData\\Roaming\\nltk_data...\n"
     ]
    },
    {
     "data": {
      "text/plain": [
       "True"
      ]
     },
     "execution_count": 54,
     "metadata": {},
     "output_type": "execute_result"
    }
   ],
   "source": [
    "import nltk\n",
    "nltk.download('omw-1.4')"
   ]
  },
  {
   "cell_type": "code",
   "execution_count": null,
   "id": "f91774b8-84ed-454a-bc93-e5ba1d7e0c0c",
   "metadata": {},
   "outputs": [],
   "source": []
  }
 ],
 "metadata": {
  "kernelspec": {
   "display_name": "pytorchEnvWithDataSci",
   "language": "python",
   "name": "pytorchenvwithdatasci"
  },
  "language_info": {
   "codemirror_mode": {
    "name": "ipython",
    "version": 3
   },
   "file_extension": ".py",
   "mimetype": "text/x-python",
   "name": "python",
   "nbconvert_exporter": "python",
   "pygments_lexer": "ipython3",
   "version": "3.9.12"
  }
 },
 "nbformat": 4,
 "nbformat_minor": 5
}
