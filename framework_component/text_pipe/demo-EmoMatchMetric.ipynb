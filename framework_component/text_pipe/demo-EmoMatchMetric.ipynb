{
 "cells": [
  {
   "cell_type": "code",
   "execution_count": 154,
   "id": "8df43f70-4bb9-482f-856c-154505619036",
   "metadata": {},
   "outputs": [],
   "source": [
    "from transformers import AutoTokenizer\n",
    "from transformers import AutoModelForSequenceClassification\n",
    "import numpy as np\n",
    "import torch\n",
    "\n",
    "# seq: joy, trust, fear, surprise, sadness, disgust, anger, anticipation\n",
    "def emoMatchMetric(expect, actual):\n",
    "    # model = AutoModelForSequenceClassification.from_pretrained(\"./firstSentenceDetection/\") # local\n",
    "    model = AutoModelForSequenceClassification.from_pretrained(\"Yuetian/roberta-large-finetuned-plutchik-emotion\")\n",
    "    # model = AutoModelForSequenceClassification.from_pretrained(\"Yuetian/bert-base-uncased-finetuned-plutchik-emotion\")\n",
    "    # assert model.config.output_attentions == True\n",
    "    tokenizer = AutoTokenizer.from_pretrained(\"Yuetian/roberta-large-finetuned-plutchik-emotion\")\n",
    "    # tokenizer = AutoTokenizer.from_pretrained(\"Yuetian/bert-base-uncased-finetuned-plutchik-emotion\")\n",
    "    encoding = tokenizer(expect, return_tensors=\"pt\")\n",
    "    # tokenizer.decode(encoding['input_ids'])\n",
    "    encoding = {k: v.to('cpu') for k,v in encoding.items()}\n",
    "    outputs = model(**encoding)   \n",
    "    # apply sigmoid + threshold\n",
    "    logits = outputs.logits\n",
    "    sigmoid = torch.nn.Sigmoid()\n",
    "    probsExpect = sigmoid(logits.squeeze().cpu())\n",
    "    \n",
    "    encoding = tokenizer(actual, return_tensors=\"pt\")\n",
    "    # tokenizer.decode(encoding['input_ids'])\n",
    "    encoding = {k: v.to('cpu') for k,v in encoding.items()}\n",
    "    outputs = model(**encoding)   \n",
    "    # apply sigmoid + threshold\n",
    "    logits = outputs.logits\n",
    "    sigmoid = torch.nn.Sigmoid()\n",
    "    probsActual = sigmoid(logits.squeeze().cpu())\n",
    "    \n",
    "    probsExpect = probsExpect.detach().numpy()\n",
    "    probsActual = probsActual.detach().numpy()\n",
    "    # return [probsExpect, probsActual]\n",
    "    return ((1 -probsExpect + probsActual)**2/1)"
   ]
  },
  {
   "cell_type": "code",
   "execution_count": 155,
   "id": "ca3cc89d-f198-4dda-a0f8-49e23fe2c889",
   "metadata": {},
   "outputs": [
    {
     "data": {
      "text/plain": [
       "array([1.0000405 , 1.0129129 , 1.0001721 , 3.9736207 , 1.000056  ,\n",
       "       1.0004365 , 0.99998343, 0.07874388], dtype=float32)"
      ]
     },
     "execution_count": 155,
     "metadata": {},
     "output_type": "execute_result"
    }
   ],
   "source": [
    "emoMatchMetric(\"I am happy\", \"I am glad\")"
   ]
  },
  {
   "cell_type": "code",
   "execution_count": 28,
   "id": "63435d68-74de-40c2-9a7f-79227d0ab173",
   "metadata": {},
   "outputs": [
    {
     "data": {
      "text/plain": [
       "2.8284271247461903"
      ]
     },
     "execution_count": 28,
     "metadata": {},
     "output_type": "execute_result"
    }
   ],
   "source": []
  },
  {
   "cell_type": "code",
   "execution_count": 23,
   "id": "183b57ba-2bf2-41dc-a319-60b9d9cc4812",
   "metadata": {},
   "outputs": [
    {
     "data": {
      "text/plain": [
       "array([1, 1, 1, 1, 1])"
      ]
     },
     "execution_count": 23,
     "metadata": {},
     "output_type": "execute_result"
    }
   ],
   "source": [
    "np.array([1, 1, 1, 1, 1, 1, 1, 1])\n"
   ]
  },
  {
   "cell_type": "code",
   "execution_count": null,
   "id": "6e79cdc6-3d8a-4a93-b7e8-94514c19cc0e",
   "metadata": {},
   "outputs": [],
   "source": []
  }
 ],
 "metadata": {
  "kernelspec": {
   "display_name": "pytorchEnvWithDataSci",
   "language": "python",
   "name": "pytorchenvwithdatasci"
  },
  "language_info": {
   "codemirror_mode": {
    "name": "ipython",
    "version": 3
   },
   "file_extension": ".py",
   "mimetype": "text/x-python",
   "name": "python",
   "nbconvert_exporter": "python",
   "pygments_lexer": "ipython3",
   "version": "3.9.12"
  }
 },
 "nbformat": 4,
 "nbformat_minor": 5
}
